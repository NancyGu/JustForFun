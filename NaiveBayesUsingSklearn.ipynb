{
 "cells": [
  {
   "cell_type": "code",
   "execution_count": 70,
   "metadata": {},
   "outputs": [],
   "source": [
    "from sklearn.model_selection import train_test_split\n",
    "from sklearn.metrics import accuracy_score\n",
    "import numpy as np\n",
    "import pandas as pd\n",
    "\n",
    "from sklearn import datasets\n",
    "from sklearn.naive_bayes import MultinomialNB\n",
    "from sklearn.naive_bayes import GaussianNB\n",
    "from sklearn.metrics import confusion_matrix\n",
    "from time import time\n",
    "from sklearn.feature_extraction.text import TfidfVectorizer\n",
    "from sklearn.metrics import classification_report\n",
    "import matplotlib.pyplot as plt\n",
    "from nltk.corpus import stopwords\n",
    "from nltk.tokenize import word_tokenize\n",
    "import nltk\n",
    "import re\n",
    "import os\n",
    "import random"
   ]
  },
  {
   "cell_type": "code",
   "execution_count": 61,
   "metadata": {},
   "outputs": [
    {
     "name": "stdout",
     "output_type": "stream",
     "text": [
      "Loading dataset ...\n",
      "summary: 36 documents in 2 categories.\n",
      "Loading dataset ...\n",
      "summary: 36 documents in 2 categories.\n",
      "<class 'sklearn.utils.Bunch'>\n",
      "CPU times: user 3.63 ms, sys: 3.61 ms, total: 7.24 ms\n",
      "Wall time: 5.75 ms\n"
     ]
    }
   ],
   "source": [
    "%%time\n",
    "# naivebayes 垃圾邮件分类器\n",
    "\n",
    "# dataset：英文邮件\n",
    "train_path = \"/Users/gunanxi/PycharmProjects/JustForFun/LightGBM/build/LightGBM/python-package/LSTM_learn/MachineLearning/email/train1\"\n",
    "test_path = \"/Users/gunanxi/PycharmProjects/JustForFun/LightGBM/build/LightGBM/python-package/LSTM_learn/MachineLearning/email/test1\"\n",
    "\n",
    "   \n",
    "def load_data(folder_path):\n",
    "    print(\"Loading dataset ...\")\n",
    "    datalist = datasets.load_files(folder_path)\n",
    "    print(\"summary: {0} documents in {1} categories.\".format(len(datalist.data),len(datalist.target_names)))\n",
    "    return datalist\n",
    "train = load_data(train_path)\n",
    "test = load_data(test_path)"
   ]
  },
  {
   "cell_type": "code",
   "execution_count": 72,
   "metadata": {},
   "outputs": [
    {
     "name": "stdout",
     "output_type": "stream",
     "text": [
      "(72, 3413)\n",
      "(72, 1)\n"
     ]
    }
   ],
   "source": [
    "# 文本处理，文本转向量\n",
    "def dropStopwordsAndToken(word_bag,essaydata,word_sum):\n",
    "    # word_bag:dict\n",
    "    essaydata = essaydata.decode('utf-8')\n",
    "    data = re.sub(\"[\\s+\\.\\!\\/_,$%^*(+\\\"\\'-]+|[+——！，。？'、~@#￥%……&*（）<>]+\", \" \", essaydata)\n",
    "    data = re.sub(\"\\d\", \" \", essaydata)\n",
    "    \n",
    "    stop_words = set(stopwords.words('english'))\n",
    "    word_tokens = word_tokenize(data)\n",
    "\n",
    "    word_list = [w for w in word_tokens if not w in stop_words]\n",
    "\n",
    "    for w in word_list: \n",
    "        if len(w) < 2:\n",
    "            continue\n",
    "        if w not in stop_words:\n",
    "            w = w.encode(\"utf-8\") #全部转utf-8编码\n",
    "            w.lower()             #全部转小写\n",
    "            if w in word_bag:\n",
    "                word_bag[w] = word_bag[w] + 1\n",
    "            else:\n",
    "                word_bag[w] = 1.0\n",
    "            word_sum = word_sum + word_bag[w]\n",
    "    return word_bag,word_sum\n",
    "\n",
    "def data_todf(data,word_bag,word_sum):\n",
    "    for s in data:\n",
    "        word,num = {},0\n",
    "        word,num =dropStopwordsAndToken(word,s,num)\n",
    "        word_bag.append(word)\n",
    "        word_sum.append(num)\n",
    "    return word_bag,word_sum\n",
    "\n",
    "word_bag,word_sum = [],[]\n",
    "word_bag,word_sum = data_todf(train.data,word_bag,word_sum)\n",
    "word_bag,word_sum = data_todf(test.data,word_bag,word_sum)\n",
    "\n",
    "df = pd.DataFrame(word_bag)\n",
    "df.fillna(0, inplace = True)\n",
    "print(df.shape)\n",
    "\n",
    "train_target = pd.DataFrame(train.target)\n",
    "test_target = pd.DataFrame(test.target)\n",
    "target = pd.concat([train_target,test_target],axis=0,sort=False)\n",
    "print(target.shape)\n",
    "\n",
    "X_train,X_test, y_train, y_test = train_test_split(df,target,test_size=0.3, random_state=0)"
   ]
  },
  {
   "cell_type": "code",
   "execution_count": 76,
   "metadata": {},
   "outputs": [
    {
     "name": "stdout",
     "output_type": "stream",
     "text": [
      "0.7272727272727273\n"
     ]
    },
    {
     "name": "stderr",
     "output_type": "stream",
     "text": [
      "/Library/Frameworks/Python.framework/Versions/3.7/lib/python3.7/site-packages/sklearn/utils/validation.py:761: DataConversionWarning: A column-vector y was passed when a 1d array was expected. Please change the shape of y to (n_samples, ), for example using ravel().\n",
      "  y = column_or_1d(y, warn=True)\n"
     ]
    }
   ],
   "source": [
    "#model = GaussianNB() #0.72\n",
    "model = MultinomialNB()\n",
    "model.fit(X_train, y_train)\n",
    "def predict(X):\n",
    "    return model.predict(X)\n",
    "res = predict(X_test)\n",
    "print(accuracy_score(res,y_test))"
   ]
  },
  {
   "cell_type": "code",
   "execution_count": null,
   "metadata": {},
   "outputs": [],
   "source": []
  },
  {
   "cell_type": "code",
   "execution_count": null,
   "metadata": {},
   "outputs": [],
   "source": []
  }
 ],
 "metadata": {
  "kernelspec": {
   "display_name": "Python 3",
   "language": "python",
   "name": "python3"
  },
  "language_info": {
   "codemirror_mode": {
    "name": "ipython",
    "version": 3
   },
   "file_extension": ".py",
   "mimetype": "text/x-python",
   "name": "python",
   "nbconvert_exporter": "python",
   "pygments_lexer": "ipython3",
   "version": "3.7.1"
  }
 },
 "nbformat": 4,
 "nbformat_minor": 2
}
